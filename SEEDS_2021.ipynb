{
  "nbformat": 4,
  "nbformat_minor": 0,
  "metadata": {
    "colab": {
      "name": "SEEDS-2021",
      "provenance": [],
      "collapsed_sections": [],
      "toc_visible": true,
      "authorship_tag": "ABX9TyOqskvAEPoiBp1ZqkdRRzDw",
      "include_colab_link": true
    },
    "kernelspec": {
      "name": "python3",
      "display_name": "Python 3"
    },
    "language_info": {
      "name": "python"
    },
    "accelerator": "GPU"
  },
  "cells": [
    {
      "cell_type": "markdown",
      "metadata": {
        "id": "view-in-github",
        "colab_type": "text"
      },
      "source": [
        "<a href=\"https://colab.research.google.com/github/yuki-koizumi/seeds-2021/blob/main/SEEDS_2021.ipynb\" target=\"_parent\"><img src=\"https://colab.research.google.com/assets/colab-badge.svg\" alt=\"Open In Colab\"/></a>"
      ]
    },
    {
      "cell_type": "markdown",
      "metadata": {
        "id": "WXhfTavfeD5s"
      },
      "source": [
        "# ライブラリーの読み込み\n",
        "機械学習やグラフ描画ライブラリーなど、必要なライブラリーを読み込みます。"
      ]
    },
    {
      "cell_type": "code",
      "metadata": {
        "id": "gH3npSMYG7WP"
      },
      "source": [
        "import sys\n",
        "\n",
        "import numpy as np\n",
        "import pandas as pd\n",
        "\n",
        "import tensorflow as tf\n",
        "from tensorflow import keras\n",
        "from tensorflow.keras import layers\n",
        "\n",
        "import matplotlib.pyplot as plt\n",
        "from matplotlib.ticker import ScalarFormatter"
      ],
      "execution_count": null,
      "outputs": []
    },
    {
      "cell_type": "markdown",
      "metadata": {
        "id": "OuwReibfePbk"
      },
      "source": [
        "# 定数値の設定\n",
        "後続のプログラムで動作を変化させる可能のある値については、以下の変数で定義しています。\n",
        "必要に応じて、修正してください。"
      ]
    },
    {
      "cell_type": "code",
      "metadata": {
        "id": "ETQBZizAHPJb"
      },
      "source": [
        "epochs = 10\n",
        "batch_size = 1024\n",
        "num_neuron = 1024\n",
        "num_layer = 5\n",
        "activation = \"relu\"\n",
        "\n",
        "file_name = \"FIB1.csv\"  # rename this variable if you want to use a different dataset"
      ],
      "execution_count": null,
      "outputs": []
    },
    {
      "cell_type": "markdown",
      "metadata": {
        "id": "VIi47DiXef4M"
      },
      "source": [
        "# データファイルのダウンロード"
      ]
    },
    {
      "cell_type": "code",
      "metadata": {
        "id": "d3mf_GRTNlYq"
      },
      "source": [
        "!if [[ ! -e 'FIB1.csv' ]]; then wget 'https://www-hasegawa.ist.osaka-u.ac.jp/~ykoizumi/FIB1.csv'; fi"
      ],
      "execution_count": null,
      "outputs": []
    },
    {
      "cell_type": "markdown",
      "metadata": {
        "id": "v-AAUkhPeisC"
      },
      "source": [
        "# 関数群の定義"
      ]
    },
    {
      "cell_type": "code",
      "metadata": {
        "id": "I4t-N4p9Hatz"
      },
      "source": [
        "def normalize(x, axis=None):\n",
        "    xmean = x.mean(axis=axis, keepdims=True)\n",
        "    xstd = np.std(x, axis=axis, keepdims=True)\n",
        "    zscore = (x - xmean) / xstd\n",
        "    return xmean, xstd, zscore\n",
        "\n",
        "\n",
        "def denormalize(xmean, xstd, zscore):\n",
        "    x = zscore * xstd + xmean\n",
        "    return x\n",
        "\n",
        "\n",
        "# 学習\n",
        "def train_model(x, y, model, epochs, batch_size):\n",
        "    # early_stop = keras.callbacks.EarlyStopping(monitor='val_loss', patience=10)\n",
        "    # history = model.fit(x, y, epochs=epochs, batch_size=batch_size, validation_split = 0.1, verbose=1, callbacks=[early_stop])\n",
        "    # history = model.fit(x, y, epochs=epochs, batch_size=batch_size, validation_split = 0.1, verbose=1)\n",
        "    history = model.fit(x, y, epochs=epochs, batch_size=batch_size, verbose=1)\n",
        "    return model, history\n",
        "\n",
        "\n",
        "# モデル作成\n",
        "def build_model(num_neuron, num_layer, activation = \"relu\"):\n",
        "    model = keras.Sequential()\n",
        "    model.add(layers.Dense(num_neuron, input_shape=(1,), activation=activation))\n",
        "    for i in range(num_layer - 1):\n",
        "        model.add(layers.Dense(num_neuron, activation=activation))\n",
        "    model.add(layers.Dense(1))\n",
        "\n",
        "    optimizer = tf.keras.optimizers.RMSprop(0.001)\n",
        "    model.compile(loss=\"mse\", optimizer=optimizer, metrics=[\"mae\", \"mse\"])\n",
        "    return model\n",
        "\n",
        "\n",
        "def load_data(file_name):\n",
        "    data = pd.read_csv(file_name).sort_values(\"IP\")\n",
        "    data = data[~data.duplicated(subset=\"IP\")]\n",
        "    data = data.reset_index()\n",
        "    data[\"position\"] = data.index.values\n",
        "    return np.array(data[\"IP\"]), np.array(data[\"position\"])\n",
        "\n",
        "def plot_history(history):\n",
        "    figure_width = 10\n",
        "    figure_height = figure_width / 1.6180\n",
        "    marker_size = 10\n",
        "    line_width = 2\n",
        "    plt.rcParams[\"font.size\"] = 16\n",
        "    plt.rcParams[\"xtick.direction\"] = \"in\"\n",
        "    plt.rcParams[\"ytick.direction\"] = \"in\"\n",
        "    plt.rcParams[\"axes.linewidth\"] = 1.0\n",
        "    plt.rcParams[\"pdf.fonttype\"] = 42\n",
        "\n",
        "    hist = pd.DataFrame(history.history)\n",
        "    hist[\"epoch\"] = history.epoch\n",
        "\n",
        "    fig = plt.figure(figsize=(figure_width, figure_height))\n",
        "    ax = fig.add_subplot(1, 1, 1)\n",
        "\n",
        "    ax.plot(hist[\"epoch\"], hist[\"mse\"], label=\"Train Error\")\n",
        "    # ax.plot(hist[\"epoch\"], hist[\"val_mse\"], label=\"Val Error\")\n",
        "\n",
        "    ax.set_xlabel(\"Epoch\")\n",
        "    ax.set_ylabel(\"Mean Square Error [$y^2$]\")\n",
        "\n",
        "    ax.set_xlim(0,)\n",
        "    ax.set_ylim(0,)\n",
        "\n",
        "    # plt.legend(\n",
        "    #     bbox_to_anchor=(0, 1),\n",
        "    #     loc=\"upper left\",\n",
        "    #     frameon=False,\n",
        "    #     borderaxespad=0,\n",
        "    #     labelspacing=0.1,\n",
        "    # )\n",
        "\n",
        "    # fig.savefig(\"fig-history.pdf\")\n",
        "    return\n",
        "\n",
        "\n",
        "def plot_result(x_orig, y_orig, y_pred):\n",
        "    figure_width = 10\n",
        "    figure_height = figure_width / 1.6180\n",
        "    marker_size = 10\n",
        "    line_width = 2\n",
        "    plt.rcParams[\"font.size\"] = 16\n",
        "    plt.rcParams[\"xtick.direction\"] = \"in\"\n",
        "    plt.rcParams[\"ytick.direction\"] = \"in\"\n",
        "    plt.rcParams[\"axes.linewidth\"] = 1.0\n",
        "    plt.rcParams[\"pdf.fonttype\"] = 42\n",
        "\n",
        "    fig = plt.figure(figsize=(figure_width, figure_height))\n",
        "    ax = fig.add_subplot(1, 1, 1)\n",
        "\n",
        "    ax.plot(x_orig, y_orig, \"b-\", label=\"Original position\")\n",
        "    ax.plot(x_orig, y_pred, \"r-\", label=\"Learned index\")\n",
        "\n",
        "    ax.set_xlim(0,)\n",
        "    ax.set_ylim(0,)\n",
        "    ax.set_ylabel(\"Position\")\n",
        "    ax.set_xlabel(\"IP Prefix/IP Address\")\n",
        "\n",
        "    plt.legend(\n",
        "        bbox_to_anchor=(0, 1),\n",
        "        loc=\"upper left\",\n",
        "        frameon=False,\n",
        "        borderaxespad=0,\n",
        "        labelspacing=0.1,\n",
        "    )\n",
        "\n",
        "    # fig.savefig(\"fig-result.pdf\")\n",
        "    return\n",
        "\n",
        "def plot_subfigure(x_orig, y_orig, y_pred, div=(2, 3)):\n",
        "    figure_width = 20\n",
        "    figure_height = figure_width / 1.6180\n",
        "    marker_size = 10\n",
        "    line_width = 2\n",
        "    plt.rcParams[\"font.size\"] = 12\n",
        "    plt.rcParams[\"xtick.direction\"] = \"in\"\n",
        "    plt.rcParams[\"ytick.direction\"] = \"in\"\n",
        "    plt.rcParams[\"axes.linewidth\"] = 1.0\n",
        "    plt.rcParams[\"pdf.fonttype\"] = 42\n",
        "\n",
        "    fig = plt.figure(figsize=(figure_width, figure_height))\n",
        "    plt.subplots_adjust(wspace=0.4, hspace=0.6)\n",
        "\n",
        "    num_figure = div[0] * div[1]\n",
        "\n",
        "    x_min = np.min(x_orig)\n",
        "    x_max = np.max(x_orig)\n",
        "\n",
        "    x_diff  = x_max - x_min\n",
        "    x_delta = x_diff / num_figure\n",
        "    \n",
        "    for i in range(num_figure):\n",
        "   \n",
        "        left = (x_delta * i) + x_min\n",
        "        right = (x_delta * (i + 1)) + x_min\n",
        "\n",
        "        ind = (left <= x_orig) & (x_orig <= right)\n",
        "\n",
        "        x1 = x_orig[ind]\n",
        "        y1 = y_orig[ind]\n",
        "        y2 = y_pred[ind]\n",
        "\n",
        "        ax = fig.add_subplot(div[0], div[1], i + 1)\n",
        "\n",
        "        ax.plot(x1, y1, \"b-\", label=\"Original position\")\n",
        "        ax.plot(x1, y2, \"r-\", label=\"Learned index\")\n",
        "\n",
        "        # ax.set_xlim(0,)\n",
        "        # ax.set_ylim(0,)\n",
        "        ax.set_ylabel(\"Position\")\n",
        "        ax.set_xlabel(\"IP Prefix/IP Address\")\n",
        "        ax.yaxis.set_major_formatter(ScalarFormatter(useMathText=True))\n",
        "        ax.xaxis.set_major_formatter(ScalarFormatter(useMathText=True))\n",
        "        ax.ticklabel_format(style=\"sci\", axis=\"both\", scilimits=(0,0))\n",
        "\n",
        "        ax.legend(\n",
        "            loc=\"upper left\",\n",
        "            frameon=False,\n",
        "            borderaxespad=0,\n",
        "            labelspacing=0.1,\n",
        "        )\n",
        "    return"
      ],
      "execution_count": null,
      "outputs": []
    },
    {
      "cell_type": "markdown",
      "metadata": {
        "id": "JYiNqufleqMc"
      },
      "source": [
        "# データの読み込みと正規化\n",
        "指定したファイルから、データを読み込んで必要な値を抽出します。さらに、機械学習で処理しやすいように、値を正規化します。"
      ]
    },
    {
      "cell_type": "code",
      "metadata": {
        "id": "1jKiWmNCRhIv"
      },
      "source": [
        "# Load data\n",
        "x_np, y_np = load_data(file_name)\n",
        "\n",
        "# Normalization\n",
        "xmean, xstd, norm_x = normalize(x_np)\n",
        "ymean, ystd, norm_y = normalize(y_np)"
      ],
      "execution_count": null,
      "outputs": []
    },
    {
      "cell_type": "markdown",
      "metadata": {
        "id": "Qo-wYK35e2GG"
      },
      "source": [
        "# 機械学習モデルの構築・学習・推論\n",
        "機械学習のモデルを構築、準備したデータで学習、学習したモデルで予測値を導出します"
      ]
    },
    {
      "cell_type": "code",
      "metadata": {
        "id": "o9hHARzVNUUa"
      },
      "source": [
        "# Build model\n",
        "index = build_model(num_neuron=num_neuron, num_layer=num_layer, activation=activation)\n",
        "\n",
        "# Train model\n",
        "index, history = train_model(x=norm_x, y=norm_y, model=index, epochs=epochs, batch_size=batch_size)\n",
        "\n",
        "# Save weights and biases\n",
        "index.save(\"weight-single-learned-index.h5\")\n",
        "\n",
        "# Load weights and biases\n",
        "# index.load_weights(\"weight-single-learned-index.h5\")\n",
        "\n",
        "# Prediction result\n",
        "y_pred = denormalize(ymean, ystd, index.predict(norm_x))"
      ],
      "execution_count": null,
      "outputs": []
    },
    {
      "cell_type": "markdown",
      "metadata": {
        "id": "iluCTSmHfVav"
      },
      "source": [
        "# 結果の描画"
      ]
    },
    {
      "cell_type": "markdown",
      "metadata": {
        "id": "mbSt3rUVm1d5"
      },
      "source": [
        "## 学習過程（ロス）の表示"
      ]
    },
    {
      "cell_type": "code",
      "metadata": {
        "id": "H4193_B_Z3zC"
      },
      "source": [
        "plot_history(history)"
      ],
      "execution_count": null,
      "outputs": []
    },
    {
      "cell_type": "markdown",
      "metadata": {
        "id": "YtpTCtYRm7Yu"
      },
      "source": [
        "## 回帰全体の表示"
      ]
    },
    {
      "cell_type": "code",
      "metadata": {
        "id": "S2_OqkeBmxkA"
      },
      "source": [
        "plot_result(x_np, y_np, y_pred)"
      ],
      "execution_count": null,
      "outputs": []
    },
    {
      "cell_type": "markdown",
      "metadata": {
        "id": "rJ36XYF2m-rs"
      },
      "source": [
        "## 回帰の詳細表示"
      ]
    },
    {
      "cell_type": "code",
      "metadata": {
        "id": "6Z6j2sn6Gqfl"
      },
      "source": [
        "plot_subfigure(x_np, y_np, y_pred, div=(4, 4))"
      ],
      "execution_count": null,
      "outputs": []
    },
    {
      "cell_type": "markdown",
      "metadata": {
        "id": "JtZnQhyb8gTt"
      },
      "source": [
        "# 自分の研究結果を表示"
      ]
    },
    {
      "cell_type": "code",
      "metadata": {
        "id": "ojoScIG3nDNB"
      },
      "source": [
        "x = [0, 1, 2, 3, 4, 5] # input here\n",
        "y = [0, 1, 4, 9, 7, 4] # input here\n",
        "\n",
        "def plot_user_graph(x, y):\n",
        "    figure_width = 10\n",
        "    figure_height = figure_width / 1.6180\n",
        "    marker_size = 12\n",
        "    line_width = 2\n",
        "    plt.rcParams[\"font.size\"] = 16\n",
        "    plt.rcParams[\"xtick.direction\"] = \"in\"\n",
        "    plt.rcParams[\"ytick.direction\"] = \"in\"\n",
        "    plt.rcParams[\"axes.linewidth\"] = 1.0\n",
        "    plt.rcParams[\"pdf.fonttype\"] = 42\n",
        "\n",
        "    fig = plt.figure(figsize=(figure_width, figure_height))\n",
        "    ax = fig.add_subplot(1, 1, 1)\n",
        "\n",
        "    ax.plot(x, y, \"ro-\", linewidth=line_width, markerfacecolor='w', markersize=marker_size, markeredgewidth=line_width)\n",
        "\n",
        "    return\n",
        "\n",
        "def plot_user_scatter(x, y):\n",
        "    figure_width = 10\n",
        "    figure_height = figure_width / 1.6180\n",
        "    marker_size = 12\n",
        "    line_width = 2\n",
        "    plt.rcParams[\"font.size\"] = 16\n",
        "    plt.rcParams[\"xtick.direction\"] = \"in\"\n",
        "    plt.rcParams[\"ytick.direction\"] = \"in\"\n",
        "    plt.rcParams[\"axes.linewidth\"] = 1.0\n",
        "    plt.rcParams[\"pdf.fonttype\"] = 42\n",
        "\n",
        "    fig = plt.figure(figsize=(figure_width, figure_height))\n",
        "    ax = fig.add_subplot(1, 1, 1)\n",
        "\n",
        "    ax.scatter(x, y, s=120, c=\"w\", edgecolors=\"r\", marker=\"o\", linewidths=line_width)\n",
        "\n",
        "    return\n",
        "\n",
        "def plot_user_bar(x, y):\n",
        "    figure_width = 10\n",
        "    figure_height = figure_width / 1.6180\n",
        "    marker_size = 12\n",
        "    line_width = 2\n",
        "    plt.rcParams[\"font.size\"] = 16\n",
        "    plt.rcParams[\"xtick.direction\"] = \"in\"\n",
        "    plt.rcParams[\"ytick.direction\"] = \"in\"\n",
        "    plt.rcParams[\"axes.linewidth\"] = 1.0\n",
        "    plt.rcParams[\"pdf.fonttype\"] = 42\n",
        "\n",
        "    fig = plt.figure(figsize=(figure_width, figure_height))\n",
        "    ax = fig.add_subplot(1, 1, 1)\n",
        "\n",
        "    ax.bar(x, y, width=0.8, color=\"w\", edgecolor=\"r\", linewidth=line_width)\n",
        "\n",
        "    return\n",
        "\n",
        "plot_user_graph(x, y) # 折れ線グラフ\n",
        "plot_user_scatter(x, y) # 散布図\n",
        "plot_user_bar(x, y) # 棒グラフ"
      ],
      "execution_count": null,
      "outputs": []
    }
  ]
}